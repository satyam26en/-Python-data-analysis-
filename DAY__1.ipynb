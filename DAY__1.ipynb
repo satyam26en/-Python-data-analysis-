{
  "nbformat": 4,
  "nbformat_minor": 0,
  "metadata": {
    "colab": {
      "provenance": [],
      "collapsed_sections": [
        "hSUpfdLqWZ4z",
        "oiBUFlZhYPHA",
        "ZSH4Xu-jYoEa",
        "RGozs-V8ZksU",
        "XelGhR7zaXoj",
        "N8zfNuDoattc",
        "myDCvz6aymmD",
        "x9fuWCJVt2ms"
      ]
    },
    "kernelspec": {
      "name": "python3",
      "display_name": "Python 3"
    },
    "language_info": {
      "name": "python"
    }
  },
  "cells": [
    {
      "cell_type": "markdown",
      "source": [
        "###1. printing on the console"
      ],
      "metadata": {
        "id": "hSUpfdLqWZ4z"
      }
    },
    {
      "cell_type": "code",
      "execution_count": 1,
      "metadata": {
        "colab": {
          "base_uri": "https://localhost:8080/"
        },
        "id": "S6hO9xe-VgvQ",
        "outputId": "d0b36881-f310-47e1-e295-f55a2144e960"
      },
      "outputs": [
        {
          "output_type": "stream",
          "name": "stdout",
          "text": [
            "hello world\n"
          ]
        }
      ],
      "source": [
        "print(\"hello world\")"
      ]
    },
    {
      "cell_type": "code",
      "source": [
        "print('my name is satyam kumar')"
      ],
      "metadata": {
        "colab": {
          "base_uri": "https://localhost:8080/"
        },
        "id": "Icwfd-wYWn6f",
        "outputId": "d0fd54f8-74cb-4ecb-8049-70b941bcac78"
      },
      "execution_count": 2,
      "outputs": [
        {
          "output_type": "stream",
          "name": "stdout",
          "text": [
            "my name is satyam kumar\n"
          ]
        }
      ]
    },
    {
      "cell_type": "code",
      "source": [
        "# if we neeed to print something large on screen\n",
        "print('my name is satyam \\\n",
        "kumar currently b.tech 2nd year \\\n",
        "student at kiit university')"
      ],
      "metadata": {
        "colab": {
          "base_uri": "https://localhost:8080/"
        },
        "id": "p4FZvCyBWr7u",
        "outputId": "863213cf-febc-4528-cfee-14c979ab0257"
      },
      "execution_count": 7,
      "outputs": [
        {
          "output_type": "stream",
          "name": "stdout",
          "text": [
            "my name is satyam kumar currently b.tech 2nd year student at kiit university\n"
          ]
        }
      ]
    },
    {
      "cell_type": "code",
      "source": [
        "# if we neeed to print something large on screen with newline\n",
        "print(\"\"\"my name is satyam\n",
        "kumar currently b.tech 2nd year\n",
        "student at kiit university\"\"\")"
      ],
      "metadata": {
        "colab": {
          "base_uri": "https://localhost:8080/"
        },
        "id": "LvSj356FX0yj",
        "outputId": "91cc5931-13fd-4063-8211-23ecd4cf77ed"
      },
      "execution_count": 8,
      "outputs": [
        {
          "output_type": "stream",
          "name": "stdout",
          "text": [
            "my name is satyam \n",
            "kumar currently b.tech 2nd year \n",
            "student at kiit university\n"
          ]
        }
      ]
    },
    {
      "cell_type": "markdown",
      "source": [
        "### 2. Variables"
      ],
      "metadata": {
        "id": "oiBUFlZhYPHA"
      }
    },
    {
      "cell_type": "code",
      "source": [
        "a=\"buxar\"\n",
        "b='delhi'\n",
        "print(a)\n",
        "print(b)\n",
        "print(a,b)"
      ],
      "metadata": {
        "colab": {
          "base_uri": "https://localhost:8080/"
        },
        "id": "f-i53G8UYWjG",
        "outputId": "cede2b1b-b0dc-463e-9f17-be687a555c14"
      },
      "execution_count": 9,
      "outputs": [
        {
          "output_type": "stream",
          "name": "stdout",
          "text": [
            "buxar\n",
            "delhi\n",
            "buxar delhi\n"
          ]
        }
      ]
    },
    {
      "cell_type": "markdown",
      "source": [
        "### 3. Data types"
      ],
      "metadata": {
        "id": "ZSH4Xu-jYoEa"
      }
    },
    {
      "cell_type": "code",
      "source": [
        "# int,float,string,bool\n",
        "a=13\n",
        "type(a)"
      ],
      "metadata": {
        "colab": {
          "base_uri": "https://localhost:8080/"
        },
        "id": "8Y0O6LOZYsUh",
        "outputId": "814973f9-4f38-4506-9d1b-a7f87b56574c"
      },
      "execution_count": 12,
      "outputs": [
        {
          "output_type": "execute_result",
          "data": {
            "text/plain": [
              "int"
            ]
          },
          "metadata": {},
          "execution_count": 12
        }
      ]
    },
    {
      "cell_type": "code",
      "source": [
        "b=25.45\n",
        "type(b)\n"
      ],
      "metadata": {
        "colab": {
          "base_uri": "https://localhost:8080/"
        },
        "id": "WWH-olCTZH4s",
        "outputId": "e0656c86-ab11-41a0-a240-daf5e3182c07"
      },
      "execution_count": 14,
      "outputs": [
        {
          "output_type": "execute_result",
          "data": {
            "text/plain": [
              "float"
            ]
          },
          "metadata": {},
          "execution_count": 14
        }
      ]
    },
    {
      "cell_type": "code",
      "source": [
        "date='2024-05-24'\n",
        "type(date)"
      ],
      "metadata": {
        "colab": {
          "base_uri": "https://localhost:8080/"
        },
        "id": "4-AfSKrFZPfX",
        "outputId": "bb8e360a-2c5e-454b-9f57-258e41844fbd"
      },
      "execution_count": 17,
      "outputs": [
        {
          "output_type": "execute_result",
          "data": {
            "text/plain": [
              "str"
            ]
          },
          "metadata": {},
          "execution_count": 17
        }
      ]
    },
    {
      "cell_type": "code",
      "source": [
        "name=\"satyam\"\n",
        "type(name)"
      ],
      "metadata": {
        "colab": {
          "base_uri": "https://localhost:8080/"
        },
        "id": "rfiihZpTZWfV",
        "outputId": "3fa85dea-38db-4f32-c153-19e39c754a04"
      },
      "execution_count": 16,
      "outputs": [
        {
          "output_type": "execute_result",
          "data": {
            "text/plain": [
              "str"
            ]
          },
          "metadata": {},
          "execution_count": 16
        }
      ]
    },
    {
      "cell_type": "markdown",
      "source": [
        "### 4.Input from users"
      ],
      "metadata": {
        "id": "RGozs-V8ZksU"
      }
    },
    {
      "cell_type": "code",
      "source": [
        "age=int(input(\"enter your age :-\"))\n",
        "weight=float(input(\"enter your weight :-\"))\n",
        "name=input(\"enter your name :-\")\n",
        "print(age)\n",
        "print(weight)\n",
        "print(name)"
      ],
      "metadata": {
        "colab": {
          "base_uri": "https://localhost:8080/"
        },
        "id": "FEfoF3IlZqk5",
        "outputId": "800a6a28-aa46-4a80-a6cd-fd0b71a32a47"
      },
      "execution_count": 19,
      "outputs": [
        {
          "output_type": "stream",
          "name": "stdout",
          "text": [
            "enter your age :-20\n",
            "enter your weight :-48.5\n",
            "enter your name :-satyam\n",
            "20\n",
            "48.5\n",
            "satyam\n"
          ]
        }
      ]
    },
    {
      "cell_type": "markdown",
      "source": [
        "### 5.comments"
      ],
      "metadata": {
        "id": "XelGhR7zaXoj"
      }
    },
    {
      "cell_type": "code",
      "source": [
        "# this is example of single line comment\n",
        "\"\"\"this is example of\n",
        "multline comment\"\"\"\n",
        "print(\"satyam\")"
      ],
      "metadata": {
        "colab": {
          "base_uri": "https://localhost:8080/"
        },
        "id": "Q7nXc4QUabXk",
        "outputId": "01db749a-5778-483d-cae5-48edc257d562"
      },
      "execution_count": 21,
      "outputs": [
        {
          "output_type": "stream",
          "name": "stdout",
          "text": [
            "satyam\n"
          ]
        }
      ]
    },
    {
      "cell_type": "markdown",
      "source": [
        "### 6.formatting"
      ],
      "metadata": {
        "id": "PM3LUkJO8ord"
      }
    },
    {
      "cell_type": "code",
      "source": [
        "# FORMATE\n",
        "name='satyam'\n",
        "last_name='kumar'\n",
        "age=20\n",
        "print(name+\" lives in noida,up\")\n",
        "print(f\"{name} {last_name} lives in noida,up\")\n",
        "print(f\"{name} {last_name} lives in noida,up and his age is \"+str(age) )\n",
        "print(\"his age is \"+str(age))\n",
        "print(f\"his age is {age} \")\n",
        "print(f\"{name} {last_name} lives in Noida, UP and his age is {age}\")"
      ],
      "metadata": {
        "colab": {
          "base_uri": "https://localhost:8080/"
        },
        "id": "zxSBM0_B8t38",
        "outputId": "3b45a87a-4d63-40e4-c15b-aa6423c934fd"
      },
      "execution_count": 73,
      "outputs": [
        {
          "output_type": "stream",
          "name": "stdout",
          "text": [
            "satyam lives in noida,up\n",
            "satyam kumar lives in noida,up\n",
            "satyam kumar lives in noida,up and his age is 20\n",
            "his age is 20\n",
            "his age is 20 \n",
            "satyam kumar lives in Noida, UP and his age is 20\n"
          ]
        }
      ]
    },
    {
      "cell_type": "markdown",
      "source": [
        "### 7.strings"
      ],
      "metadata": {
        "id": "N8zfNuDoattc"
      }
    },
    {
      "cell_type": "code",
      "source": [
        "city=input(\"enter the city name :- \")\n",
        "print(len(city))  # accesing the length of string\n",
        "print(city[0])\n",
        "print(city[1])\n",
        "print(city[2])"
      ],
      "metadata": {
        "colab": {
          "base_uri": "https://localhost:8080/"
        },
        "id": "ow6g05vDawWb",
        "outputId": "78dc90b7-3446-462a-c7c9-5c83bf0371c5"
      },
      "execution_count": 23,
      "outputs": [
        {
          "output_type": "stream",
          "name": "stdout",
          "text": [
            "enter the city name :- buxar\n",
            "5\n",
            "b\n",
            "u\n",
            "x\n"
          ]
        }
      ]
    },
    {
      "cell_type": "code",
      "source": [
        "# slicing [start:end:step] end excluded 1:6:2  :- 1,3,5 will be output\n",
        "city=input(\"enter the city name :- \")\n",
        "print(city[:3])  # slicing from start\n",
        "print(city[-3:]) # slicing from end\n",
        "print(city[1:4]) # slicing in a range\n",
        "print(city[-1])\n",
        "print(city[-2])\n",
        "print(city[-3])\n",
        "print(city[-4])\n",
        "print(city[0:4:2])\n",
        "print(city[-4:-1:2]) # end,start,step"
      ],
      "metadata": {
        "colab": {
          "base_uri": "https://localhost:8080/"
        },
        "id": "wjnaaaQlbV75",
        "outputId": "f5523c09-0caa-4e1b-a6a0-999058b9c0c8"
      },
      "execution_count": 30,
      "outputs": [
        {
          "output_type": "stream",
          "name": "stdout",
          "text": [
            "enter the city name :- buxar\n",
            "bux\n",
            "xar\n",
            "uxa\n",
            "r\n",
            "a\n",
            "x\n",
            "u\n",
            "bx\n",
            "ua\n"
          ]
        }
      ]
    },
    {
      "cell_type": "code",
      "source": [
        "# strings are immutable\n",
        "\"\"\"Immutability means that after a string has been created, the individual characters within the string cannot\n",
        "be altered or replaced. Instead, if you want to change or modify a string, you must create a new string based\n",
        "on the modifications you want to make.\"\"\""
      ],
      "metadata": {
        "id": "sYou2JLlmbm3"
      },
      "execution_count": null,
      "outputs": []
    },
    {
      "cell_type": "markdown",
      "source": [
        "# 8. String Methods"
      ],
      "metadata": {
        "id": "CFJJWtq9nVBk"
      }
    },
    {
      "cell_type": "markdown",
      "source": [
        "### **8.1. Basic String Manipulation**"
      ],
      "metadata": {
        "id": "On3iktBEyXKC"
      }
    },
    {
      "cell_type": "code",
      "source": [
        "string=input(\"enter the string :- \")\n",
        "print(string.upper())                  #Converts all characters to uppercase.\n",
        "print(string.lower())                  #Converts all characters to lowercase.\n",
        "print(string.title())                  #Converts the first character of each word to uppercase.\n",
        "print(string.capitalize())             #Converts the first character to uppercase and the rest to lowercase.\n",
        "print(string.strip())                  #Removes leading and trailing whitespace.          \" hello \".strip() ➜ \"hello\"\n",
        "print(string.lstrip())                 #Removes leading whitespace.\n",
        "print(string.rstrip())                 #Removes trailing whitespace.\n",
        "print(string.replace(\"world\",\"python\"))#Replaces all occurrences of old with new.\n",
        "\n"
      ],
      "metadata": {
        "colab": {
          "base_uri": "https://localhost:8080/"
        },
        "id": "-x1Wbf5TnZv8",
        "outputId": "32291c0c-9983-4d2a-f48a-f2812ac248de"
      },
      "execution_count": 37,
      "outputs": [
        {
          "output_type": "stream",
          "name": "stdout",
          "text": [
            "enter the string :-    hello    world\n",
            "   HELLO    WORLD\n",
            "   hello    world\n",
            "   Hello    World\n",
            "   hello    world\n",
            "hello    world\n",
            "hello    world\n",
            "   hello    world\n",
            "   hello    python\n"
          ]
        }
      ]
    },
    {
      "cell_type": "code",
      "source": [
        "# join(iterable):-Joins an iterable of strings with the string as separator\n",
        "words = [\"Python\", \"is\", \"great\", \"for\", \"data\", \"analysis\"]\n",
        "sentence = \" \".join(words)\n",
        "print(sentence)\n"
      ],
      "metadata": {
        "colab": {
          "base_uri": "https://localhost:8080/"
        },
        "id": "FtfOwkIVqpQO",
        "outputId": "7bdca8e0-72d7-458c-bb45-afa7a88492bd"
      },
      "execution_count": 38,
      "outputs": [
        {
          "output_type": "stream",
          "name": "stdout",
          "text": [
            "Python is great for data analysis\n"
          ]
        }
      ]
    },
    {
      "cell_type": "code",
      "source": [
        "# split(sep):-Splits the string into a list of substrings based on sep\n",
        "email =input(\"enter the email is :-\")\n",
        "domain = email.split(\"@\")[1]    # [\"satyamkumar26en\",\"gmail.com\"] we have stored [1] index 1 element in domain\n",
        "user=email.split(\"@\")[0]\n",
        "list=email.split(\"@\")\n",
        "print(user)\n",
        "print(domain)\n",
        "print(list)\n"
      ],
      "metadata": {
        "colab": {
          "base_uri": "https://localhost:8080/"
        },
        "id": "RkNIqlCwrDQz",
        "outputId": "b972fb5c-125f-43e6-a755-60242253042e"
      },
      "execution_count": 42,
      "outputs": [
        {
          "output_type": "stream",
          "name": "stdout",
          "text": [
            "enter the email is :-satyamkumar26en@gmail.com\n",
            "satyamkumar26en\n",
            "gmail.com\n",
            "['satyamkumar26en', 'gmail.com']\n"
          ]
        }
      ]
    },
    {
      "cell_type": "code",
      "source": [
        "# concatenate\n",
        "first_name=input(\"enter the first name :-\")\n",
        "last_name=input(\"enter the second name :-\")\n",
        "name=first_name+last_name\n",
        "print(name)\n",
        "print(\"my name is \" + first_name + \" \"+last_name +\" and i am learning python\")"
      ],
      "metadata": {
        "colab": {
          "base_uri": "https://localhost:8080/"
        },
        "id": "14hSB6tJy8JC",
        "outputId": "86543734-a3bc-4a5d-ff83-2638535f894e"
      },
      "execution_count": 65,
      "outputs": [
        {
          "output_type": "stream",
          "name": "stdout",
          "text": [
            "enter the first name :-satyam\n",
            "enter the second name :-kumar\n",
            "satyamkumar\n",
            "my name is satyam kumar and i am learning python\n"
          ]
        }
      ]
    },
    {
      "cell_type": "code",
      "source": [
        "# formatting and concattenate\n",
        "name=input(\"enter the name :- \")\n",
        "age=int(input(\"enter the age :- \"))\n",
        "print(f\"my name is {name} and my age is {age}\")               # formatting\n",
        "print(\"my name is \"+name +\" and my age is \" +str(age))        # concattenate"
      ],
      "metadata": {
        "colab": {
          "base_uri": "https://localhost:8080/"
        },
        "id": "wzCLSUZF1ROY",
        "outputId": "bf6c8910-c065-4e73-a7f9-f3355a651443"
      },
      "execution_count": 72,
      "outputs": [
        {
          "output_type": "stream",
          "name": "stdout",
          "text": [
            "enter the name :- satyam kumar\n",
            "enter the age :- 20\n",
            "my name is satyam kumar and my age is 20\n",
            "my name is satyam kumar and my age is 20\n"
          ]
        }
      ]
    },
    {
      "cell_type": "markdown",
      "source": [
        "## 8.2 String Inspection ,Validation and Advanced String Operations"
      ],
      "metadata": {
        "id": "myDCvz6aymmD"
      }
    },
    {
      "cell_type": "markdown",
      "source": [
        "### **Method\tDescription\tExample**\n",
        "\n",
        "1. startswith(prefix):-Returns True if the string starts with prefix \"Python\".startswith(\"Py\") ➜ True\n",
        "\n",
        "2. endswith(suffix):-Returns True if the string ends with suffix.\n",
        "\"Python\".endswith(\"on\") ➜ True\n",
        "\n",
        "3. find(sub)\tReturns the lowest index where sub is found.\n",
        "\"hello\".find(\"e\") ➜ 1\n",
        "\n",
        "4. rfind(sub)\tReturns the highest index where sub is found.\n",
        "\"hello\".rfind(\"l\") ➜ 3\n",
        "\n",
        "5. index(sub)\tLike find(), but raises an exception if sub is not found.\t\"hello\".index(\"e\") ➜ 1\n",
        "\n",
        "6. isalpha()\tReturns True if all characters are alphabetic.\n",
        "\"hello\".isalpha() ➜ True\n",
        "\n",
        "7. isdigit()\tReturns True if all characters are digits.\n",
        "\"123\".isdigit() ➜ True\n",
        "\n",
        "8. isalnum()\tReturns True if all characters are alphanumeric.\n",
        "\"hello123\".isalnum() ➜ True\n",
        "\n",
        "9. isspace()\tReturns True if all characters are whitespace.\n",
        "\" \".isspace() ➜ True\n",
        "\n",
        "10. isupper()\tReturns True if all characters are uppercase.\n",
        "\"HELLO\".isupper() ➜ True\n",
        "\n",
        "11. islower()\tReturns True if all characters are lowercase.\t\"hello\".islower() ➜ True\n",
        "\n",
        "12. count(sub)\tReturns the number of non-overlapping occurrences of sub.\t\"banana\".count(\"a\") ➜ 3\n",
        "\n",
        "13. splitlines()\tSplits the string at line breaks.\t\"hello\\nworld\".splitlines() ➜ ['hello', 'world']\n",
        "14.  partition(sep)\tSplits the string at the first occurrence of sep.\t\"hello world\".partition(\" \") ➜ ('hello', ' ', 'world')\n",
        "\n",
        "15. rpartition(sep)\tSplits the string at the last occurrence of sep.\t\"hello world hello\".rpartition(\" \") ➜ ('hello world', ' ', 'hello')"
      ],
      "metadata": {
        "id": "x9fuWCJVt2ms"
      }
    },
    {
      "cell_type": "code",
      "source": [
        "# 1.startswith\n",
        "text = \"Data Analysis with Python\"\n",
        "print(text.startswith(\"Data\"))\n",
        "print(text.startswith(\"Python\"))\n"
      ],
      "metadata": {
        "colab": {
          "base_uri": "https://localhost:8080/"
        },
        "id": "Ys9Dtl3auqIq",
        "outputId": "7dc92302-4632-4baf-c5a4-cf43a6dba8f5"
      },
      "execution_count": 43,
      "outputs": [
        {
          "output_type": "stream",
          "name": "stdout",
          "text": [
            "True\n",
            "False\n"
          ]
        }
      ]
    },
    {
      "cell_type": "code",
      "source": [
        "# 2.endswith\n",
        "filename = \"report.csv\"\n",
        "print(filename.endswith(\".csv\"))\n",
        "print(filename.endswith(\".txt\"))\n"
      ],
      "metadata": {
        "colab": {
          "base_uri": "https://localhost:8080/"
        },
        "id": "E0rM_efav465",
        "outputId": "b2d48f76-93a3-47e5-b798-c338cb9d6702"
      },
      "execution_count": 44,
      "outputs": [
        {
          "output_type": "stream",
          "name": "stdout",
          "text": [
            "True\n",
            "False\n"
          ]
        }
      ]
    },
    {
      "cell_type": "code",
      "source": [
        "# 3.find\n",
        "text = \"Python programming\"\n",
        "print(text.find(\"prog\"))\n",
        "print(text.find(\"xyz\"))"
      ],
      "metadata": {
        "colab": {
          "base_uri": "https://localhost:8080/"
        },
        "id": "uq4APC5Nv-FX",
        "outputId": "86eb08c6-6b93-415b-f5bf-22b93fbc4ead"
      },
      "execution_count": 45,
      "outputs": [
        {
          "output_type": "stream",
          "name": "stdout",
          "text": [
            "7\n",
            "-1\n"
          ]
        }
      ]
    },
    {
      "cell_type": "code",
      "source": [
        "# 4.rfind\n",
        "text = \"abracadabra\"\n",
        "print(text.rfind(\"abra\"))\n",
        "print(text.rfind(\"cad\"))"
      ],
      "metadata": {
        "colab": {
          "base_uri": "https://localhost:8080/"
        },
        "id": "ulmp_HlwwBPZ",
        "outputId": "3b4ea564-cf1c-4a1e-d807-04c999a1a2c2"
      },
      "execution_count": 46,
      "outputs": [
        {
          "output_type": "stream",
          "name": "stdout",
          "text": [
            "7\n",
            "4\n"
          ]
        }
      ]
    },
    {
      "cell_type": "code",
      "source": [
        "# 5.index\n",
        "text = \"Data Science\"\n",
        "print(text.index(\"Science\"))  # Output: 5\n",
        "#print(text.index(\"Python\"))  # Raises ValueError\n"
      ],
      "metadata": {
        "colab": {
          "base_uri": "https://localhost:8080/"
        },
        "id": "F0v1fMJJwEYp",
        "outputId": "8ac8ccf1-35d4-4ca9-e76a-95b7b6a5c863"
      },
      "execution_count": 48,
      "outputs": [
        {
          "output_type": "stream",
          "name": "stdout",
          "text": [
            "5\n"
          ]
        }
      ]
    },
    {
      "cell_type": "code",
      "source": [
        "# 6.isalpha\n",
        "text1 = \"HelloWorld\"\n",
        "text2 = \"Hello World123\"\n",
        "print(text1.isalpha())\n",
        "print(text2.isalpha())\n"
      ],
      "metadata": {
        "colab": {
          "base_uri": "https://localhost:8080/"
        },
        "id": "Bvdy3wq0wN97",
        "outputId": "06e28ad3-edef-477e-ea79-1d16cd278432"
      },
      "execution_count": 49,
      "outputs": [
        {
          "output_type": "stream",
          "name": "stdout",
          "text": [
            "True\n",
            "False\n"
          ]
        }
      ]
    },
    {
      "cell_type": "code",
      "source": [
        "# 7.isdigit\n",
        "number1 = \"123456\"\n",
        "number2 = \"123.456\"\n",
        "print(number1.isdigit())\n",
        "print(number2.isdigit())\n"
      ],
      "metadata": {
        "colab": {
          "base_uri": "https://localhost:8080/"
        },
        "id": "DjYS9oqRwbkN",
        "outputId": "749d09b8-6c40-444d-b659-25612bdf5978"
      },
      "execution_count": 50,
      "outputs": [
        {
          "output_type": "stream",
          "name": "stdout",
          "text": [
            "True\n",
            "False\n"
          ]
        }
      ]
    },
    {
      "cell_type": "code",
      "source": [
        "# 8.isalnum\n",
        "text1 = \"Python3\"\n",
        "text2 = \"Python 3\"\n",
        "print(text1.isalnum())\n",
        "print(text2.isalnum())\n"
      ],
      "metadata": {
        "colab": {
          "base_uri": "https://localhost:8080/"
        },
        "id": "QaPi3zU0we-y",
        "outputId": "3880b09c-ce07-484c-98b0-34a51924eec8"
      },
      "execution_count": 51,
      "outputs": [
        {
          "output_type": "stream",
          "name": "stdout",
          "text": [
            "True\n",
            "False\n"
          ]
        }
      ]
    },
    {
      "cell_type": "code",
      "source": [
        "# 9.isspace\n",
        "space1 = \"   \"\n",
        "space2 = \"   Python  \"\n",
        "print(space1.isspace())\n",
        "print(space2.isspace())\n"
      ],
      "metadata": {
        "colab": {
          "base_uri": "https://localhost:8080/"
        },
        "id": "FXG7bQExwiJ2",
        "outputId": "e26a8137-6599-4d06-c410-abe20a79294c"
      },
      "execution_count": 52,
      "outputs": [
        {
          "output_type": "stream",
          "name": "stdout",
          "text": [
            "True\n",
            "False\n"
          ]
        }
      ]
    },
    {
      "cell_type": "code",
      "source": [
        "# 10.isupper\n",
        "text1 = \"HELLO\"\n",
        "text2 = \"Hello WORLD\"\n",
        "print(text1.isupper())\n",
        "print(text2.isupper())\n"
      ],
      "metadata": {
        "colab": {
          "base_uri": "https://localhost:8080/"
        },
        "id": "Bl0U2cFfwl62",
        "outputId": "b4cd779c-4946-4cc5-e19c-d4925d13ffc7"
      },
      "execution_count": 53,
      "outputs": [
        {
          "output_type": "stream",
          "name": "stdout",
          "text": [
            "True\n",
            "False\n"
          ]
        }
      ]
    },
    {
      "cell_type": "code",
      "source": [
        "# 11. islower\n",
        "text1 = \"hello\"\n",
        "text2 = \"Hello world\"\n",
        "print(text1.islower())\n",
        "print(text2.islower())\n"
      ],
      "metadata": {
        "colab": {
          "base_uri": "https://localhost:8080/"
        },
        "id": "yJjLt0HMwpew",
        "outputId": "07dc8695-15f5-421c-c1aa-410fe4313348"
      },
      "execution_count": 54,
      "outputs": [
        {
          "output_type": "stream",
          "name": "stdout",
          "text": [
            "True\n",
            "False\n"
          ]
        }
      ]
    },
    {
      "cell_type": "code",
      "source": [
        "# 12.count\n",
        "text = \"banana\"\n",
        "print(text.count(\"a\"))\n",
        "print(text.count(\"na\"))\n"
      ],
      "metadata": {
        "colab": {
          "base_uri": "https://localhost:8080/"
        },
        "id": "q4ocxvWLwtWw",
        "outputId": "04b34924-64fe-4e2d-e920-62573bcebc1a"
      },
      "execution_count": 55,
      "outputs": [
        {
          "output_type": "stream",
          "name": "stdout",
          "text": [
            "3\n",
            "2\n"
          ]
        }
      ]
    },
    {
      "cell_type": "code",
      "source": [
        "# 13.splitlines\n",
        "text = \"Hello\\nWorld\\nWelcome\\rTo\\rPython\\r\\nProgramming\"\n",
        "lines = text.splitlines()\n",
        "print(lines)\n"
      ],
      "metadata": {
        "colab": {
          "base_uri": "https://localhost:8080/"
        },
        "id": "eb0_yYMfx2fq",
        "outputId": "7e15ce47-c345-4c6f-b3bc-5ee2573e3d41"
      },
      "execution_count": 56,
      "outputs": [
        {
          "output_type": "stream",
          "name": "stdout",
          "text": [
            "['Hello', 'World', 'Welcome', 'To', 'Python', 'Programming']\n"
          ]
        }
      ]
    },
    {
      "cell_type": "code",
      "source": [
        "# 14.partition\n",
        "sentence = \"I love Python programming\"\n",
        "part1, sep, part2 = sentence.partition(\"Python\")\n",
        "print(part1)\n",
        "print(sep)\n",
        "print(part2)\n"
      ],
      "metadata": {
        "colab": {
          "base_uri": "https://localhost:8080/"
        },
        "id": "ys_N45-Qx7Rd",
        "outputId": "9c8dd9bc-baa6-4c58-f8cb-9a82ea4b2d8c"
      },
      "execution_count": 57,
      "outputs": [
        {
          "output_type": "stream",
          "name": "stdout",
          "text": [
            "I love \n",
            "Python\n",
            " programming\n"
          ]
        }
      ]
    },
    {
      "cell_type": "code",
      "source": [
        "# 15.rpartition\n",
        "file_path = \"/path/to/my/file.txt\"\n",
        "directory, sep, filename = file_path.rpartition(\"/\")\n",
        "print(directory)\n",
        "print(sep)\n",
        "print(filename)\n"
      ],
      "metadata": {
        "colab": {
          "base_uri": "https://localhost:8080/"
        },
        "id": "YIf-FiuDyAmm",
        "outputId": "0a4cd738-2bcb-4dce-a87c-9d85ddce8bc2"
      },
      "execution_count": 58,
      "outputs": [
        {
          "output_type": "stream",
          "name": "stdout",
          "text": [
            "/path/to/my\n",
            "/\n",
            "file.txt\n"
          ]
        }
      ]
    }
  ]
}