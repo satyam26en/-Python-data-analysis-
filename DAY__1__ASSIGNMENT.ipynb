{
  "nbformat": 4,
  "nbformat_minor": 0,
  "metadata": {
    "colab": {
      "provenance": [],
      "collapsed_sections": [
        "XicqVkX57598",
        "y7wOfUiL8IV5",
        "RY9cSfKA8TvH",
        "Sv3gJq4-8zxj",
        "8wKEwlbU9C6-",
        "9-XrVlpP9PFe",
        "rj4JFITa9VCx",
        "UirV0Dun9h9Z"
      ]
    },
    "kernelspec": {
      "name": "python3",
      "display_name": "Python 3"
    },
    "language_info": {
      "name": "python"
    }
  },
  "cells": [
    {
      "cell_type": "markdown",
      "source": [
        "# **DAY__1__ASSIGNEMTS**"
      ],
      "metadata": {
        "id": "lYh38qvr7q9i"
      }
    },
    {
      "cell_type": "markdown",
      "source": [
        "### 1.write a program which takes 2 inputs from the user : weight(kg) and height(meter) and prints the BMI in the output."
      ],
      "metadata": {
        "id": "XicqVkX57598"
      }
    },
    {
      "cell_type": "code",
      "execution_count": null,
      "metadata": {
        "colab": {
          "base_uri": "https://localhost:8080/"
        },
        "id": "EIcdCBV0nN7T",
        "outputId": "717c41cc-92fb-4d9e-ff12-bff200d73477"
      },
      "outputs": [
        {
          "output_type": "stream",
          "name": "stdout",
          "text": [
            "enter the weight :-49\n",
            "enter the height :-2\n",
            "the BMI of given user is 12.25\n"
          ]
        }
      ],
      "source": [
        "x=int(input(\"enter the weight :-\"))\n",
        "y=int(input(\"enter the height :-\"))\n",
        "BMI = x/ (y*y)\n",
        "print(f\"the BMI of given user is {BMI}\")"
      ]
    },
    {
      "cell_type": "markdown",
      "source": [
        "### 2.write a program which takes the name of the user as input and replace all the occurence of character 'a' in the name to 'b' and print it."
      ],
      "metadata": {
        "id": "y7wOfUiL8IV5"
      }
    },
    {
      "cell_type": "code",
      "source": [
        "x=input(\"enter the name :-\")\n",
        "y=x.replace(\"a\",\"b\")\n",
        "print(f\"the updadeted name is :- {y} \")\n"
      ],
      "metadata": {
        "colab": {
          "base_uri": "https://localhost:8080/"
        },
        "id": "6eNfGx8woHx_",
        "outputId": "464e06af-1a54-423f-9eba-ec1459d20743"
      },
      "execution_count": null,
      "outputs": [
        {
          "output_type": "stream",
          "name": "stdout",
          "text": [
            "enter the name :-satyam\n",
            "the updadeted name is :- sbtybm \n"
          ]
        }
      ]
    },
    {
      "cell_type": "markdown",
      "source": [
        "### 3. write a program which takes 2 inputs from user as principle amount (int) and rate of annual interest (float) and print the expected total amount after 2 years.\n"
      ],
      "metadata": {
        "id": "RY9cSfKA8TvH"
      }
    },
    {
      "cell_type": "code",
      "source": [
        "p=int(input(\"enter the principle amount :- \"))\n",
        "r=float(input(\"enter the rate of interest :- \"))\n",
        "t=int(input(\"enter the number of years :- \"))\n",
        "w=(p +(r*t))\n",
        "print(f\"Total amount after {t} is {w}\")\n",
        "x=(round(p*(1+(r/100))**t))\n",
        "print(f\"Compound total amount after {t} is {x}\")\n"
      ],
      "metadata": {
        "colab": {
          "base_uri": "https://localhost:8080/"
        },
        "id": "_r3W11Y7o__8",
        "outputId": "04f8dc5f-a729-496b-dae5-2e733fd228d5"
      },
      "execution_count": null,
      "outputs": [
        {
          "output_type": "stream",
          "name": "stdout",
          "text": [
            "enter the principle amount :- 100\n",
            "enter the rate of interest :- 12\n",
            "enter the number of years :- 2\n",
            "Total amount after 2 is 124.0\n",
            "Compound total amount after 2 is 125\n"
          ]
        }
      ]
    },
    {
      "cell_type": "markdown",
      "source": [
        "###4. write a program which takes city name from user input. irrespective of in which case user enters the city name,print the city name in camel case meaning first letter should be capital and rest in small."
      ],
      "metadata": {
        "id": "Sv3gJq4-8zxj"
      }
    },
    {
      "cell_type": "code",
      "source": [
        "city=input(\"enter the city name :-\")\n",
        "city_2=city.title()\n",
        "print(f\"updadted city name is :- {city_2}\")\n"
      ],
      "metadata": {
        "colab": {
          "base_uri": "https://localhost:8080/"
        },
        "id": "c-OlgXNfr4yN",
        "outputId": "c47de458-8545-471c-dc9c-b1cff217d66c"
      },
      "execution_count": null,
      "outputs": [
        {
          "output_type": "stream",
          "name": "stdout",
          "text": [
            "enter the city name :-buxar\n",
            "updadted city name is :- Buxar\n"
          ]
        }
      ]
    },
    {
      "cell_type": "markdown",
      "source": [
        "### 5. write a program which takes the name of the user as input and print the index of character 'a' in the string. if 'a' is not there then return -1."
      ],
      "metadata": {
        "id": "8wKEwlbU9C6-"
      }
    },
    {
      "cell_type": "code",
      "source": [
        "name=input(\"enter the name :-\")\n",
        "x=name.find(\"a\")\n",
        "print(f\"index of a is {str(x)}\")\n",
        "\n"
      ],
      "metadata": {
        "colab": {
          "base_uri": "https://localhost:8080/"
        },
        "id": "j4AET90cs2zb",
        "outputId": "aaf0e5b7-4e77-4bec-82ae-14bd809f47ad"
      },
      "execution_count": null,
      "outputs": [
        {
          "output_type": "stream",
          "name": "stdout",
          "text": [
            "enter the name :-styam\n",
            "index of a is 3\n"
          ]
        }
      ]
    },
    {
      "cell_type": "markdown",
      "source": [
        "### 6. Display the number of letters in the below string my_word = \"antidisestablishmentarianism\""
      ],
      "metadata": {
        "id": "9-XrVlpP9PFe"
      }
    },
    {
      "cell_type": "code",
      "source": [
        "word=input(\"enter the word :-\")\n",
        "count=0\n",
        "for char in word:\n",
        "  if char.isalpha():  # Check if the character is alphabetic\n",
        "        count += 1\n",
        "print(f\"number of letters in given word is :- {count}\")\n",
        "\n",
        "\n",
        "\n"
      ],
      "metadata": {
        "id": "SKNr2bc9urnB",
        "colab": {
          "base_uri": "https://localhost:8080/"
        },
        "outputId": "e9fac4ab-e511-4ae1-addb-faf7ef7b7694"
      },
      "execution_count": null,
      "outputs": [
        {
          "output_type": "stream",
          "name": "stdout",
          "text": [
            "enter the word :-antidisestablishmentarianism\n",
            "number of letters in given word is :- 28\n"
          ]
        }
      ]
    },
    {
      "cell_type": "markdown",
      "source": [
        "###7.  Take 3 inputs from user : first name , last name and age . Display the information in below format\n",
        "### exmaple\n",
        "### first name : Mohit\n",
        "### last name : Sharma\n",
        "### age : 32"
      ],
      "metadata": {
        "id": "rj4JFITa9VCx"
      }
    },
    {
      "cell_type": "code",
      "source": [
        "first_name=input(\"enter the first name :- \")\n",
        "last_name=input(\"enter the last name :- \")\n",
        "age=int(input(\"enter the age :- \"))\n",
        "x =first_name.capitalize()\n",
        "y=last_name.capitalize()\n",
        "print(f\"first name : {x}\")\n",
        "print(f\"last  name : {y}\")\n",
        "print(f\"age :{age}\")"
      ],
      "metadata": {
        "colab": {
          "base_uri": "https://localhost:8080/"
        },
        "id": "kJaOCaJwwBMT",
        "outputId": "f80b3d8d-e1eb-4fce-a7ff-adeef07bc689"
      },
      "execution_count": null,
      "outputs": [
        {
          "output_type": "stream",
          "name": "stdout",
          "text": [
            "enter the first name :- satyam\n",
            "enter the last name :- kumar\n",
            "enter the age :- 20\n",
            "first name : Satyam\n",
            "last  name : Kumar\n",
            "age :20\n"
          ]
        }
      ]
    },
    {
      "cell_type": "markdown",
      "source": [
        "###8. Take 3 inputs from user : first name , last name and company name. create the email alias for the user and display it.Email alias is first 2 letters of first name , last 3 letters of last name and @company.com\n",
        "### example\n",
        "### first name : MOhit\n",
        "### last name : sharma\n",
        "### company : infosys\n",
        "### Display : morma@infosys.com\n"
      ],
      "metadata": {
        "id": "UirV0Dun9h9Z"
      }
    },
    {
      "cell_type": "code",
      "source": [
        "first_name=input(\"enter the first name :- \")\n",
        "last_name=input(\"enter  the last name :- \")\n",
        "company=input(\"enter the company name :-\")\n",
        "x=first_name[0:2].lower()\n",
        "y=last_name[-3:].lower()\n",
        "z=x+y\n",
        "print(f\"email id is : {z}@{company}.com\")"
      ],
      "metadata": {
        "colab": {
          "base_uri": "https://localhost:8080/"
        },
        "id": "gVA7DxK_xfKA",
        "outputId": "97c2072c-afc0-4638-8860-67acfa12dd8c"
      },
      "execution_count": null,
      "outputs": [
        {
          "output_type": "stream",
          "name": "stdout",
          "text": [
            "enter the first name :- satyam\n",
            "enter  the last name :- kumar\n",
            "enter the company name :-amazon\n",
            "email id is : samar@amazon.com\n"
          ]
        }
      ]
    }
  ]
}